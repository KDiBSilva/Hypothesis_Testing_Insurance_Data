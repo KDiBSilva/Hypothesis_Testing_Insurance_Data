{
 "cells": [
  {
   "cell_type": "markdown",
   "id": "afee32da",
   "metadata": {},
   "source": [
    "# For each question, make sure to:\n",
    "\n",
    "1. State your Null Hypothesis and Alternative Hypothesis\n",
    "2. Select the correct test according to the data type and number of samples\n",
    "3. Test the assumptions of your selected test.\n",
    "4. Execute the selected test, or the alternative test (if you do not meet the assumptions)\n",
    "5. Interpret your p-value and reject or fail to reject your null hypothesis \n",
    "6. Show a supporting visualization that helps display the result\n"
   ]
  },
  {
   "cell_type": "code",
   "execution_count": 1,
   "id": "a64dbc7d",
   "metadata": {},
   "outputs": [],
   "source": [
    "# Imports\n",
    "#Numpy\n",
    "import numpy as np\n",
    "#Pandas\n",
    "import pandas as pd\n",
    "#Matplotib\n",
    "import matplotlib.pyplot as plt\n",
    "# Seaborn\n",
    "import seaborn as sns\n",
    "\n",
    "import scipy.stats as stats\n",
    "\n",
    "from statsmodels.stats.multicomp import pairwise_tukeyhsd\n",
    "\n",
    "\n",
    "## Filter ALL warnings\n",
    "import warnings\n",
    "warnings.filterwarnings('ignore')"
   ]
  },
  {
   "cell_type": "code",
   "execution_count": 2,
   "id": "906c40af",
   "metadata": {},
   "outputs": [
    {
     "data": {
      "text/html": [
       "<div>\n",
       "<style scoped>\n",
       "    .dataframe tbody tr th:only-of-type {\n",
       "        vertical-align: middle;\n",
       "    }\n",
       "\n",
       "    .dataframe tbody tr th {\n",
       "        vertical-align: top;\n",
       "    }\n",
       "\n",
       "    .dataframe thead th {\n",
       "        text-align: right;\n",
       "    }\n",
       "</style>\n",
       "<table border=\"1\" class=\"dataframe\">\n",
       "  <thead>\n",
       "    <tr style=\"text-align: right;\">\n",
       "      <th></th>\n",
       "      <th>age</th>\n",
       "      <th>sex</th>\n",
       "      <th>bmi</th>\n",
       "      <th>children</th>\n",
       "      <th>smoker</th>\n",
       "      <th>region</th>\n",
       "      <th>charges</th>\n",
       "    </tr>\n",
       "  </thead>\n",
       "  <tbody>\n",
       "    <tr>\n",
       "      <th>0</th>\n",
       "      <td>19</td>\n",
       "      <td>female</td>\n",
       "      <td>27.900</td>\n",
       "      <td>0</td>\n",
       "      <td>yes</td>\n",
       "      <td>southwest</td>\n",
       "      <td>16884.92400</td>\n",
       "    </tr>\n",
       "    <tr>\n",
       "      <th>1</th>\n",
       "      <td>18</td>\n",
       "      <td>male</td>\n",
       "      <td>33.770</td>\n",
       "      <td>1</td>\n",
       "      <td>no</td>\n",
       "      <td>southeast</td>\n",
       "      <td>1725.55230</td>\n",
       "    </tr>\n",
       "    <tr>\n",
       "      <th>2</th>\n",
       "      <td>28</td>\n",
       "      <td>male</td>\n",
       "      <td>33.000</td>\n",
       "      <td>3</td>\n",
       "      <td>no</td>\n",
       "      <td>southeast</td>\n",
       "      <td>4449.46200</td>\n",
       "    </tr>\n",
       "    <tr>\n",
       "      <th>3</th>\n",
       "      <td>33</td>\n",
       "      <td>male</td>\n",
       "      <td>22.705</td>\n",
       "      <td>0</td>\n",
       "      <td>no</td>\n",
       "      <td>northwest</td>\n",
       "      <td>21984.47061</td>\n",
       "    </tr>\n",
       "    <tr>\n",
       "      <th>4</th>\n",
       "      <td>32</td>\n",
       "      <td>male</td>\n",
       "      <td>28.880</td>\n",
       "      <td>0</td>\n",
       "      <td>no</td>\n",
       "      <td>northwest</td>\n",
       "      <td>3866.85520</td>\n",
       "    </tr>\n",
       "  </tbody>\n",
       "</table>\n",
       "</div>"
      ],
      "text/plain": [
       "   age     sex     bmi  children smoker     region      charges\n",
       "0   19  female  27.900         0    yes  southwest  16884.92400\n",
       "1   18    male  33.770         1     no  southeast   1725.55230\n",
       "2   28    male  33.000         3     no  southeast   4449.46200\n",
       "3   33    male  22.705         0     no  northwest  21984.47061\n",
       "4   32    male  28.880         0     no  northwest   3866.85520"
      ]
     },
     "execution_count": 2,
     "metadata": {},
     "output_type": "execute_result"
    }
   ],
   "source": [
    "# CSV File\n",
    "filename  = 'Data/insurance.csv'\n",
    "df = pd.read_csv(filename)\n",
    "df.head()"
   ]
  },
  {
   "cell_type": "markdown",
   "id": "4472f34e",
   "metadata": {},
   "source": [
    "# Q1. Do smokers have higher insurance charges than non-smokers?\n",
    "\n",
    "- Null Hypothesis: Smokers and non-smokers have similar insurance charges.\n",
    "\n",
    "- Alternative Hypothesis: Smokers do have higher charges than non-smokers."
   ]
  },
  {
   "cell_type": "markdown",
   "id": "1b1f6582",
   "metadata": {},
   "source": [
    "- Establish features"
   ]
  },
  {
   "cell_type": "code",
   "execution_count": 3,
   "id": "cc933fcf",
   "metadata": {},
   "outputs": [],
   "source": [
    "# Filtering out smokers and non smokers\n",
    "smoker_df = df.loc[df['smoker']== 'yes'].copy()\n",
    "non_smoker_df = df.loc[df['smoker']== 'no'].copy()\n",
    "# Filter for feature 'charges'\n",
    "smoker_chg = smoker_df['charges']\n",
    "non_smoker_chg = non_smoker_df['charges']"
   ]
  },
  {
   "cell_type": "markdown",
   "id": "91ec1737",
   "metadata": {},
   "source": [
    "- Test for outliers"
   ]
  },
  {
   "cell_type": "code",
   "execution_count": 4,
   "id": "305f81e2",
   "metadata": {},
   "outputs": [
    {
     "data": {
      "text/plain": [
       "0"
      ]
     },
     "execution_count": 4,
     "metadata": {},
     "output_type": "execute_result"
    }
   ],
   "source": [
    "# Outliers for smokers\n",
    "zscores_s = stats.zscore(smoker_chg)\n",
    "outliers_s = abs(zscores_s)>3\n",
    "np.sum(outliers_s)"
   ]
  },
  {
   "cell_type": "code",
   "execution_count": 5,
   "id": "a26736e0",
   "metadata": {},
   "outputs": [
    {
     "data": {
      "text/plain": [
       "24"
      ]
     },
     "execution_count": 5,
     "metadata": {},
     "output_type": "execute_result"
    }
   ],
   "source": [
    "# Outliers for non_smokers\n",
    "zscores_ns = stats.zscore(non_smoker_chg)\n",
    "outliers_ns = abs(zscores_ns)>3\n",
    "np.sum(outliers_ns)"
   ]
  },
  {
   "cell_type": "code",
   "execution_count": 6,
   "id": "360f8ead",
   "metadata": {
    "scrolled": true
   },
   "outputs": [],
   "source": [
    "# remove outliers from non_smokers\n",
    "non_smoker_chg = non_smoker_chg[(np.abs(stats.zscore(non_smoker_chg)) < 3)]"
   ]
  },
  {
   "cell_type": "markdown",
   "id": "56827163",
   "metadata": {},
   "source": [
    "- Test for normality"
   ]
  },
  {
   "cell_type": "code",
   "execution_count": 7,
   "id": "46c5ac07",
   "metadata": {},
   "outputs": [
    {
     "data": {
      "text/plain": [
       "NormaltestResult(statistic=61.03941356533816, pvalue=5.564930630036463e-14)"
      ]
     },
     "execution_count": 7,
     "metadata": {},
     "output_type": "execute_result"
    }
   ],
   "source": [
    "# normal test smokers\n",
    "result_s = stats.normaltest(smoker_chg)\n",
    "result_s"
   ]
  },
  {
   "cell_type": "code",
   "execution_count": 8,
   "id": "22fd1123",
   "metadata": {},
   "outputs": [
    {
     "data": {
      "text/plain": [
       "NormaltestResult(statistic=163.80367047789198, pvalue=2.6945416315543976e-36)"
      ]
     },
     "execution_count": 8,
     "metadata": {},
     "output_type": "execute_result"
    }
   ],
   "source": [
    "# normal test non_smokers\n",
    "result_ns = stats.normaltest(non_smoker_chg)\n",
    "result_ns"
   ]
  },
  {
   "cell_type": "markdown",
   "id": "ef93cc34",
   "metadata": {},
   "source": [
    "- Test for Equal Variance"
   ]
  },
  {
   "cell_type": "code",
   "execution_count": 9,
   "id": "388b8d6d",
   "metadata": {},
   "outputs": [
    {
     "name": "stdout",
     "output_type": "stream",
     "text": [
      "LeveneResult(statistic=520.7468821724297, pvalue=2.4247238784347824e-97)\n"
     ]
    },
    {
     "data": {
      "text/plain": [
       "True"
      ]
     },
     "execution_count": 9,
     "metadata": {},
     "output_type": "execute_result"
    }
   ],
   "source": [
    "# equal variance test\n",
    "result = stats.levene(smoker_chg, non_smoker_chg)\n",
    "print(result)\n",
    "# is the p-value less than 0.05?\n",
    "result.pvalue < .05\n",
    "# result is less than 0.05"
   ]
  },
  {
   "cell_type": "markdown",
   "id": "3c237cbc",
   "metadata": {},
   "source": [
    "- Run Independent t- test "
   ]
  },
  {
   "cell_type": "code",
   "execution_count": 10,
   "id": "3334b9b9",
   "metadata": {},
   "outputs": [
    {
     "data": {
      "text/plain": [
       "Ttest_indResult(statistic=33.732305987092516, pvalue=2.5753226625873578e-104)"
      ]
     },
     "execution_count": 10,
     "metadata": {},
     "output_type": "execute_result"
    }
   ],
   "source": [
    "# independent/ scipy.stats.ttest_ind\n",
    "\n",
    "# Independent t-test with equal_var set to False\n",
    "result = stats.ttest_ind(smoker_chg, non_smoker_chg, equal_var = False)\n",
    "result\n",
    "\n"
   ]
  },
  {
   "cell_type": "code",
   "execution_count": 11,
   "id": "eac4d9d8",
   "metadata": {},
   "outputs": [
    {
     "name": "stdout",
     "output_type": "stream",
     "text": [
      "p-value=0.0000000000\n",
      "Significant: True\n"
     ]
    }
   ],
   "source": [
    "## is our result significant\n",
    "print(f\"p-value={result.pvalue:.10f}\")\n",
    "print(f\"Significant: {result.pvalue <.05}\")\n"
   ]
  },
  {
   "cell_type": "markdown",
   "id": "004e94b4",
   "metadata": {},
   "source": [
    "**Conclusion:**\n",
    "\n",
    "Reject Null Hypothesis: Smokers do have higher insurance charges than non_smokers."
   ]
  },
  {
   "cell_type": "code",
   "execution_count": 12,
   "id": "f3b9a970",
   "metadata": {},
   "outputs": [
    {
     "data": {
      "image/png": "[encoded data removed]",
      "text/plain": [
       "<Figure size 640x480 with 1 Axes>"
      ]
     },
     "metadata": {},
     "output_type": "display_data"
    }
   ],
   "source": [
    "ax = sns.barplot(x=df['smoker'], y = df['charges'])\n",
    "ax.set_title('Smokers and Non-Smokers by Charges');"
   ]
  },
  {
   "cell_type": "markdown",
   "id": "6e85701d",
   "metadata": {},
   "source": [
    "# Q2. Are men more likely to smoke than women?\n",
    "\n",
    "- Null Hypothesis: Men are not more likely to smoke than women.\n",
    "\n",
    "- Alternative Hypothesis: Men are more likely to smoke than women."
   ]
  },
  {
   "cell_type": "code",
   "execution_count": 13,
   "id": "1ce40f73",
   "metadata": {},
   "outputs": [
    {
     "data": {
      "text/html": [
       "<div>\n",
       "<style scoped>\n",
       "    .dataframe tbody tr th:only-of-type {\n",
       "        vertical-align: middle;\n",
       "    }\n",
       "\n",
       "    .dataframe tbody tr th {\n",
       "        vertical-align: top;\n",
       "    }\n",
       "\n",
       "    .dataframe thead th {\n",
       "        text-align: right;\n",
       "    }\n",
       "</style>\n",
       "<table border=\"1\" class=\"dataframe\">\n",
       "  <thead>\n",
       "    <tr style=\"text-align: right;\">\n",
       "      <th>smoker</th>\n",
       "      <th>no</th>\n",
       "      <th>yes</th>\n",
       "    </tr>\n",
       "    <tr>\n",
       "      <th>sex</th>\n",
       "      <th></th>\n",
       "      <th></th>\n",
       "    </tr>\n",
       "  </thead>\n",
       "  <tbody>\n",
       "    <tr>\n",
       "      <th>female</th>\n",
       "      <td>547</td>\n",
       "      <td>115</td>\n",
       "    </tr>\n",
       "    <tr>\n",
       "      <th>male</th>\n",
       "      <td>517</td>\n",
       "      <td>159</td>\n",
       "    </tr>\n",
       "  </tbody>\n",
       "</table>\n",
       "</div>"
      ],
      "text/plain": [
       "smoker   no  yes\n",
       "sex             \n",
       "female  547  115\n",
       "male    517  159"
      ]
     },
     "execution_count": 13,
     "metadata": {},
     "output_type": "execute_result"
    }
   ],
   "source": [
    "# Chi-Squared\n",
    "# calculate the contingency table\n",
    "table = pd.crosstab(df['sex'], df['smoker'])\n",
    "table"
   ]
  },
  {
   "cell_type": "code",
   "execution_count": 14,
   "id": "3463f41e",
   "metadata": {},
   "outputs": [],
   "source": [
    "# Run the Test and Save the Output\n",
    "result = stats.chi2_contingency(table)\n",
    "#label the results\n",
    "chi2, p, deg_free, expected_vals = result "
   ]
  },
  {
   "cell_type": "code",
   "execution_count": 15,
   "id": "21ace8e7",
   "metadata": {},
   "outputs": [
    {
     "name": "stdout",
     "output_type": "stream",
     "text": [
      "0.006548143503580696\n"
     ]
    },
    {
     "data": {
      "text/plain": [
       "True"
      ]
     },
     "execution_count": 15,
     "metadata": {},
     "output_type": "execute_result"
    }
   ],
   "source": [
    "# Get p-value\n",
    "print(p)\n",
    "p<.05"
   ]
  },
  {
   "cell_type": "markdown",
   "id": "d2d2c563",
   "metadata": {},
   "source": [
    "- Fail to Reject Null Hypothesis: Men are more likely to smoke than women"
   ]
  },
  {
   "cell_type": "code",
   "execution_count": 16,
   "id": "5b835922",
   "metadata": {},
   "outputs": [
    {
     "data": {
      "image/png": "[encoded data removed]",
      "text/plain": [
       "<Figure size 640x480 with 1 Axes>"
      ]
     },
     "metadata": {},
     "output_type": "display_data"
    }
   ],
   "source": [
    "ax = sns.countplot(x=df['smoker'], hue = df['sex'])\n",
    "ax.set_title('Smokers by Gender');"
   ]
  },
  {
   "cell_type": "markdown",
   "id": "63b196e3",
   "metadata": {},
   "source": [
    "# Q3. Do different regions have different charges, on average?\n",
    "\n",
    "- Null Hypothesis: There is no difference in charges for each region.\n",
    "\n",
    "- Alternative Hypothesis: Different regions have different charges."
   ]
  },
  {
   "cell_type": "code",
   "execution_count": 17,
   "id": "da70628f",
   "metadata": {},
   "outputs": [
    {
     "data": {
      "text/plain": [
       "dict_keys(['southwest', 'southeast', 'northwest', 'northeast'])"
      ]
     },
     "execution_count": 17,
     "metadata": {},
     "output_type": "execute_result"
    }
   ],
   "source": [
    "## Create empty dictionary. \n",
    "region = {}\n",
    "## Loop through all unique categories\n",
    "for i in df['region'].unique():\n",
    "    ## Get series for group and rename\n",
    "    data = df.loc[df['region']==i,'charges'].copy()\n",
    "    \n",
    "    # save into the dictionary\n",
    "    region[i] = data\n",
    "region.keys()\n",
    "\n"
   ]
  },
  {
   "cell_type": "code",
   "execution_count": 18,
   "id": "4efdd10e",
   "metadata": {},
   "outputs": [
    {
     "data": {
      "text/plain": [
       "8"
      ]
     },
     "execution_count": 18,
     "metadata": {},
     "output_type": "execute_result"
    }
   ],
   "source": [
    "# Outliers for SW\n",
    "zscores_sw = stats.zscore(region['southwest'])\n",
    "outliers_sw = abs(zscores_sw)>3\n",
    "np.sum(outliers_sw)"
   ]
  },
  {
   "cell_type": "code",
   "execution_count": 19,
   "id": "57e63649",
   "metadata": {},
   "outputs": [],
   "source": [
    "# remove outliers from SW\n",
    "region['southwest'] = region['southwest'][(np.abs(stats.zscore(region['southwest'])) < 3)]"
   ]
  },
  {
   "cell_type": "code",
   "execution_count": 20,
   "id": "04990db2",
   "metadata": {},
   "outputs": [
    {
     "data": {
      "text/plain": [
       "2"
      ]
     },
     "execution_count": 20,
     "metadata": {},
     "output_type": "execute_result"
    }
   ],
   "source": [
    "# Outliers for SE\n",
    "zscores_se = stats.zscore(region['southeast'])\n",
    "outliers_se = abs(zscores_se)>3\n",
    "np.sum(outliers_se)"
   ]
  },
  {
   "cell_type": "code",
   "execution_count": 21,
   "id": "09b0380d",
   "metadata": {},
   "outputs": [],
   "source": [
    "# remove outliers from SE\n",
    "region['southeast'] = region['southeast'][(np.abs(stats.zscore(region['southeast'])) < 3)]"
   ]
  },
  {
   "cell_type": "code",
   "execution_count": 22,
   "id": "35d54dc7",
   "metadata": {},
   "outputs": [
    {
     "data": {
      "text/plain": [
       "7"
      ]
     },
     "execution_count": 22,
     "metadata": {},
     "output_type": "execute_result"
    }
   ],
   "source": [
    "# Outliers for NW\n",
    "zscores_nw = stats.zscore(region['northwest'])\n",
    "outliers_nw = abs(zscores_nw)>3\n",
    "np.sum(outliers_nw)"
   ]
  },
  {
   "cell_type": "code",
   "execution_count": 23,
   "id": "4618d019",
   "metadata": {},
   "outputs": [],
   "source": [
    "# remove outliers from NW\n",
    "region['northwest'] = region['northwest'][(np.abs(stats.zscore(region['northwest'])) < 3)]"
   ]
  },
  {
   "cell_type": "code",
   "execution_count": 24,
   "id": "0ab7041a",
   "metadata": {},
   "outputs": [
    {
     "data": {
      "text/plain": [
       "4"
      ]
     },
     "execution_count": 24,
     "metadata": {},
     "output_type": "execute_result"
    }
   ],
   "source": [
    "# Outliers for NE\n",
    "zscores_ne = stats.zscore(region['northeast'])\n",
    "outliers_ne = abs(zscores_ne)>3\n",
    "np.sum(outliers_ne)"
   ]
  },
  {
   "cell_type": "code",
   "execution_count": 25,
   "id": "7437cc8a",
   "metadata": {},
   "outputs": [],
   "source": [
    "# remove outliers from NE\n",
    "region['northeast'] = region['northeast'][(np.abs(stats.zscore(region['northeast'])) < 3)]"
   ]
  },
  {
   "cell_type": "code",
   "execution_count": 26,
   "id": "f8cf30ed",
   "metadata": {},
   "outputs": [
    {
     "data": {
      "text/html": [
       "<div>\n",
       "<style scoped>\n",
       "    .dataframe tbody tr th:only-of-type {\n",
       "        vertical-align: middle;\n",
       "    }\n",
       "\n",
       "    .dataframe tbody tr th {\n",
       "        vertical-align: top;\n",
       "    }\n",
       "\n",
       "    .dataframe thead th {\n",
       "        text-align: right;\n",
       "    }\n",
       "</style>\n",
       "<table border=\"1\" class=\"dataframe\">\n",
       "  <thead>\n",
       "    <tr style=\"text-align: right;\">\n",
       "      <th></th>\n",
       "      <th>n</th>\n",
       "      <th>p</th>\n",
       "      <th>test stat</th>\n",
       "    </tr>\n",
       "  </thead>\n",
       "  <tbody>\n",
       "    <tr>\n",
       "      <th>southwest</th>\n",
       "      <td>317.0</td>\n",
       "      <td>7.728611e-22</td>\n",
       "      <td>97.223886</td>\n",
       "    </tr>\n",
       "    <tr>\n",
       "      <th>southeast</th>\n",
       "      <td>362.0</td>\n",
       "      <td>1.936990e-13</td>\n",
       "      <td>58.544942</td>\n",
       "    </tr>\n",
       "    <tr>\n",
       "      <th>northwest</th>\n",
       "      <td>318.0</td>\n",
       "      <td>2.940543e-19</td>\n",
       "      <td>85.341045</td>\n",
       "    </tr>\n",
       "    <tr>\n",
       "      <th>northeast</th>\n",
       "      <td>320.0</td>\n",
       "      <td>3.557877e-17</td>\n",
       "      <td>75.749565</td>\n",
       "    </tr>\n",
       "  </tbody>\n",
       "</table>\n",
       "</div>"
      ],
      "text/plain": [
       "               n             p  test stat\n",
       "southwest  317.0  7.728611e-22  97.223886\n",
       "southeast  362.0  1.936990e-13  58.544942\n",
       "northwest  318.0  2.940543e-19  85.341045\n",
       "northeast  320.0  3.557877e-17  75.749565"
      ]
     },
     "execution_count": 26,
     "metadata": {},
     "output_type": "execute_result"
    }
   ],
   "source": [
    "## Running normal test on each group and confirming there are >20 in each group\n",
    "norm_results = {}\n",
    "for i, data in region.items():\n",
    "    stat, p = stats.normaltest(data)\n",
    "    ## save the p val, test statistic, and the size of the group\n",
    "    norm_results[i] = {'n': len(data),\n",
    "                             'p':p,\n",
    "                             'test stat':stat,}\n",
    "## convert to a dataframe\n",
    "norm_results_df = pd.DataFrame(norm_results).T\n",
    "norm_results_df\n"
   ]
  },
  {
   "cell_type": "code",
   "execution_count": 27,
   "id": "9a9323ec",
   "metadata": {},
   "outputs": [
    {
     "data": {
      "text/html": [
       "<div>\n",
       "<style scoped>\n",
       "    .dataframe tbody tr th:only-of-type {\n",
       "        vertical-align: middle;\n",
       "    }\n",
       "\n",
       "    .dataframe tbody tr th {\n",
       "        vertical-align: top;\n",
       "    }\n",
       "\n",
       "    .dataframe thead th {\n",
       "        text-align: right;\n",
       "    }\n",
       "</style>\n",
       "<table border=\"1\" class=\"dataframe\">\n",
       "  <thead>\n",
       "    <tr style=\"text-align: right;\">\n",
       "      <th></th>\n",
       "      <th>n</th>\n",
       "      <th>p</th>\n",
       "      <th>test stat</th>\n",
       "      <th>significance</th>\n",
       "    </tr>\n",
       "  </thead>\n",
       "  <tbody>\n",
       "    <tr>\n",
       "      <th>southwest</th>\n",
       "      <td>317.0</td>\n",
       "      <td>7.728611e-22</td>\n",
       "      <td>97.223886</td>\n",
       "      <td>True</td>\n",
       "    </tr>\n",
       "    <tr>\n",
       "      <th>southeast</th>\n",
       "      <td>362.0</td>\n",
       "      <td>1.936990e-13</td>\n",
       "      <td>58.544942</td>\n",
       "      <td>True</td>\n",
       "    </tr>\n",
       "    <tr>\n",
       "      <th>northwest</th>\n",
       "      <td>318.0</td>\n",
       "      <td>2.940543e-19</td>\n",
       "      <td>85.341045</td>\n",
       "      <td>True</td>\n",
       "    </tr>\n",
       "    <tr>\n",
       "      <th>northeast</th>\n",
       "      <td>320.0</td>\n",
       "      <td>3.557877e-17</td>\n",
       "      <td>75.749565</td>\n",
       "      <td>True</td>\n",
       "    </tr>\n",
       "  </tbody>\n",
       "</table>\n",
       "</div>"
      ],
      "text/plain": [
       "               n             p  test stat  significance\n",
       "southwest  317.0  7.728611e-22  97.223886          True\n",
       "southeast  362.0  1.936990e-13  58.544942          True\n",
       "northwest  318.0  2.940543e-19  85.341045          True\n",
       "northeast  320.0  3.557877e-17  75.749565          True"
      ]
     },
     "execution_count": 27,
     "metadata": {},
     "output_type": "execute_result"
    }
   ],
   "source": [
    "### checking significance with pandas \n",
    "norm_results_df['significance'] = norm_results_df['p'] < .05 \n",
    "norm_results_df\n"
   ]
  },
  {
   "cell_type": "markdown",
   "id": "38b823ec",
   "metadata": {},
   "source": [
    "Above they do not have normal distribution but we have more than 15 per region, so we move on."
   ]
  },
  {
   "cell_type": "code",
   "execution_count": 29,
   "id": "42dddc04",
   "metadata": {},
   "outputs": [
    {
     "name": "stdout",
     "output_type": "stream",
     "text": [
      "LeveneResult(statistic=9.518349004554441, pvalue=3.2035503711783993e-06)\n"
     ]
    },
    {
     "data": {
      "text/plain": [
       "True"
      ]
     },
     "execution_count": 29,
     "metadata": {},
     "output_type": "execute_result"
    }
   ],
   "source": [
    "# Test for equal variance with * operator to select all\n",
    "l_results = stats.levene(*region.values())\n",
    "print(l_results)\n",
    "# is the p-value less than 0.05?\n",
    "l_results.pvalue < .05"
   ]
  },
  {
   "cell_type": "markdown",
   "id": "47419a9f",
   "metadata": {},
   "source": [
    "variance is below 0.05, there is not equal variance"
   ]
  },
  {
   "cell_type": "code",
   "execution_count": 30,
   "id": "8bf2d09a",
   "metadata": {},
   "outputs": [
    {
     "data": {
      "text/plain": [
       "KruskalResult(statistic=6.914045702545643, pvalue=0.07468847911322242)"
      ]
     },
     "execution_count": 30,
     "metadata": {},
     "output_type": "execute_result"
    }
   ],
   "source": [
    "stats.kruskal(*region.values())"
   ]
  },
  {
   "cell_type": "markdown",
   "id": "d56b6aaa",
   "metadata": {},
   "source": [
    "- p value is higher than .05. "
   ]
  },
  {
   "cell_type": "markdown",
   "id": "848385ec",
   "metadata": {},
   "source": [
    "Fail to Reject Null Hypothesis: There is a difference in charges between the Southeast and Southwest regions"
   ]
  },
  {
   "cell_type": "code",
   "execution_count": 31,
   "id": "2fcde1e1",
   "metadata": {},
   "outputs": [
    {
     "data": {
      "image/png": "[encoded data removed]",
      "text/plain": [
       "<Figure size 640x480 with 1 Axes>"
      ]
     },
     "metadata": {},
     "output_type": "display_data"
    }
   ],
   "source": [
    "sns.barplot(data=df, x='region',y='charges');"
   ]
  },
  {
   "cell_type": "code",
   "execution_count": null,
   "id": "e3873fb2",
   "metadata": {},
   "outputs": [],
   "source": [
    "\n"
   ]
  }
 ],
 "metadata": {
  "kernelspec": {
   "display_name": "Python (dojo-env)",
   "language": "python",
   "name": "dojo-env"
  },
  "language_info": {
   "codemirror_mode": {
    "name": "ipython",
    "version": 3
   },
   "file_extension": ".py",
   "mimetype": "text/x-python",
   "name": "python",
   "nbconvert_exporter": "python",
   "pygments_lexer": "ipython3",
   "version": "3.9.15"
  },
  "toc": {
   "base_numbering": 1,
   "nav_menu": {},
   "number_sections": true,
   "sideBar": true,
   "skip_h1_title": false,
   "title_cell": "Table of Contents",
   "title_sidebar": "Contents",
   "toc_cell": false,
   "toc_position": {
    "height": "calc(100% - 180px)",
    "left": "10px",
    "top": "150px",
    "width": "341.25px"
   },
   "toc_section_display": true,
   "toc_window_display": true
  }
 },
 "nbformat": 4,
 "nbformat_minor": 5
}
